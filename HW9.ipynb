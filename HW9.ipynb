{
 "cells": [
  {
   "cell_type": "code",
   "execution_count": null,
   "id": "3c359352-17ef-46eb-8e7b-57c2d17e548e",
   "metadata": {},
   "outputs": [],
   "source": [
    "import pandas as pd\n",
    "import psycopg2\n",
    "#dataset_link=\"Bike Sharing Original Data.csv\" # для чтения с диска\n",
    "dataset_link=r\"https://raw.githubusercontent.com/YBI-Foundation/Dataset/refs/heads/main/Bike%20Sharing%20Original%20Data.csv\" # для чтения напрямую с репозитория\n",
    "df=pd.read_csv(dataset_link, sep=\",\")\n",
    "\n",
    "print(f\"\\nИсходный датафрейм:\\n{df}\")\n",
    "\n",
    "# Использование .apply()\n",
    "# Группировка исходных данных по годам и месяцам\n",
    "df_groupped=df.groupby(['Year','Month'], sort=False)\n",
    "\n",
    "def temp_delta(x): # Функция для вычисления разницы между максимальной и минимальной температурой\n",
    "    return x['Temperature'].max()-x['Temperature'].min()\n",
    "\n",
    "df_apply=df_groupped.apply(temp_delta, include_groups=False)\n",
    "print(f\"\\nРазница между максимальной и минимальной температурой в разбивке по годам и месяцам после применения .apply():\\n{df_apply}\")\n",
    "\n",
    "# Использование .transform()\n",
    "df_transform=df.copy()\n",
    "def strong_wind_count(x): # Функция для вычисления количества дней со скоростью ветроа, превышающей 15\n",
    "    c=0\n",
    "    for i in x:\n",
    "        if i>15:\n",
    "            c+=1\n",
    "    return c\n",
    "        \n",
    "df_transform['Strong Wind']=df_groupped[['Wind Speed']].transform(strong_wind_count)\n",
    "print(f\"\\nДатафрейм с новым столбцом Strong Wind после применения .transform() к ранее сгруппированным данным:\\n{df_transform.head(70)}\")\n",
    "print(\"Значения в столбце Strong Wind демонстрируют сходство с поведением оконной функции в SQL\")\n",
    "\n",
    "# Использование .map()\n",
    "df_map=df.copy()\n",
    "df_map['Temperature F']=df_map['Temperature'].map(lambda t:1.8*t+32) #Лямбда-функция перевода из градусов Цельсия в градусы Фаренгейта\n",
    "print(f\"\\nДатафрейм после использования .map() для добавления столбца с температурой по шкале Фаренгейта:\\n{df_map}\")\n",
    "\n",
    "# Использование .resample()\n",
    "# Создание датафрейма из БД dvdrental\n",
    "query='''\n",
    "SELECT rental_date, cust.first_name ||' '|| cust.last_name AS customer, staff.first_name ||' '|| staff.last_name AS staff, film.title AS film_title, film.description AS film_description,film.rental_rate AS film_rental_rate  \n",
    "FROM rental AS rent\n",
    "LEFT JOIN customer AS cust\n",
    "ON rent.customer_id=cust.customer_id\n",
    "LEFT JOIN staff AS staff\n",
    "ON rent.staff_id=staff.staff_id\n",
    "LEFT JOIN inventory AS inv\n",
    "ON rent.inventory_id=inv.inventory_id\n",
    "LEFT JOIN film AS film\n",
    "ON inv.film_id=film.film_id'''\n",
    "sql_conn=psycopg2.connect(dbname='dvdrental', user='postgres', password='postgres', host='localhost', port='5432')\n",
    "df_dvdrental=pd.read_sql(sql=query, con=sql_conn)\n",
    "\n",
    "print(f\"\\nДатафрейм из БД dvdrental:\\n{df_dvdrental}\")\n",
    "df_dvdrental_groupped=df_dvdrental.groupby('rental_date').agg({'film_rental_rate':'sum'})\n",
    "print(f\"\\nДатафрейм из БД dvdrental после предварительной группировки по датам и агрегирования:\\n{df_dvdrental_groupped}\")\n",
    "print(f\"\\nРезультат после агрегирования по месяцам с использованием .resample():\\n{df_dvdrental_groupped.resample('ME').sum()}\")\n"
   ]
  },
  {
   "cell_type": "code",
   "execution_count": null,
   "id": "77d7b360-3e6e-49b8-84b1-c39deae92740",
   "metadata": {},
   "outputs": [],
   "source": []
  },
  {
   "cell_type": "code",
   "execution_count": null,
   "id": "63686921-f560-48c4-a0f8-b9819400917e",
   "metadata": {},
   "outputs": [],
   "source": []
  }
 ],
 "metadata": {
  "kernelspec": {
   "display_name": "Python 3 (ipykernel)",
   "language": "python",
   "name": "python3"
  },
  "language_info": {
   "codemirror_mode": {
    "name": "ipython",
    "version": 3
   },
   "file_extension": ".py",
   "mimetype": "text/x-python",
   "name": "python",
   "nbconvert_exporter": "python",
   "pygments_lexer": "ipython3",
   "version": "3.12.7"
  }
 },
 "nbformat": 4,
 "nbformat_minor": 5
}
