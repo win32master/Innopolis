{
 "cells": [
  {
   "cell_type": "code",
   "execution_count": null,
   "id": "2a490414-5f69-454f-bcf1-30f0eab092f3",
   "metadata": {},
   "outputs": [],
   "source": [
    "import pandas as pd\n",
    "#dataset_link=\"Bike Sharing Original Data.csv\" # для чтения с диска\n",
    "dataset_link=r\"https://raw.githubusercontent.com/YBI-Foundation/Dataset/refs/heads/main/Bike%20Sharing%20Original%20Data.csv\" # для чтения напрямую с репозитория\n",
    "df=pd.read_csv(dataset_link, sep=\",\")\n",
    "\n",
    "#Определение формата\n",
    "n=10\n",
    "print(f\"Изучим первые {n} строк исходного датафрейма:\")\n",
    "print (df.head(n))\n",
    "print(\"\\nКаждая переменная в отдельном столбце -> имеет место 'широкий' формат данных\")\n",
    "\n",
    "#Преобразование 'широкого' формата в 'длинный'\n",
    "print (f\"Строк в исходном датафрейме: {df.shape[0]}\")\n",
    "df_long=df.melt(id_vars=['Season','Year','Month','Holiday','Weekday','Working Day','Weather Situation'], var_name='Variable', value_name='Value')\n",
    "\n",
    "print (f\"Строк в новом датафрейме после преобразования в 'длинный' формат: {df_long.shape[0]}\\n\")\n",
    "print(f\"Первые {n} строк нового датафрейма:\")\n",
    "print (df_long.head(n))\n",
    "\n",
    "\n",
    "#.pivot_table()\n",
    "print(f\"\\nПостроим с помощью .pivot_table() сводную таблицу со средней скоростью ветра в разбивке по годам и месяцам:\\n{df.pivot_table(values='Wind Speed', index='Month', columns='Year', aggfunc='mean', sort=False)}\")\n",
    "print(\"\\nПроанализировав таблицу, замечаем, что в теплые месяцы скорость ветра как правило ниже, чем в холодные, но кардинальных отличий нет.\\n\")\n",
    "\n",
    "#.groupby().agg()\n",
    "print(f\"\\nПостроим с помощью цепочки методов .groupby().agg() аналогичную таблицу со средней температурой и влажностью:\\n{df.groupby(['Year','Month'], sort=False)[['Temperature','Humidity']].agg([('Среднее значение','mean')])}\")\n",
    "print(\"\\nПроанализировав таблицу, замечаем, что отсутствуют месяцы с отрицательной средней температурой, а влажность довольно стабильна в течение года.\")\n",
    "print(\"\\nВ совокупности обе таблицы дают представление о климатических условиях региона, что может быть использовано для прогнозирования совместного использования велосипедов.\")"
   ]
  },
  {
   "cell_type": "code",
   "execution_count": null,
   "id": "032a3e85-4286-4969-8d6f-a9b5a48672f6",
   "metadata": {},
   "outputs": [],
   "source": []
  }
 ],
 "metadata": {
  "kernelspec": {
   "display_name": "Python 3 (ipykernel)",
   "language": "python",
   "name": "python3"
  },
  "language_info": {
   "codemirror_mode": {
    "name": "ipython",
    "version": 3
   },
   "file_extension": ".py",
   "mimetype": "text/x-python",
   "name": "python",
   "nbconvert_exporter": "python",
   "pygments_lexer": "ipython3",
   "version": "3.12.7"
  }
 },
 "nbformat": 4,
 "nbformat_minor": 5
}
