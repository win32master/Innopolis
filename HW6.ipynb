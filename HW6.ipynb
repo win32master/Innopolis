{
 "cells": [
  {
   "cell_type": "code",
   "execution_count": null,
   "id": "d6e0e741-bb92-49a3-9908-5f133c9cb23c",
   "metadata": {
    "scrolled": true
   },
   "outputs": [],
   "source": [
    "import pandas\n",
    "query=\"SELECT * FROM flights\"\n",
    "sql_conn=psycopg2.connect(dbname='demo', user='postgres', password='postgres', host='localhost', port='5432')\n",
    "df=pandas.read_sql(sql=query, con=sql_conn)\n",
    "print(f\"1. Количество строк/столбцов: {df.shape}\\n\")\n",
    "print(f\"2. Типы данных в столбцах:\\n{df.dtypes}\\n\")\n",
    "print(f\"3. Уникальных значений в столбце 'status':{df[\"status\"].unique().size}\\n\")\n",
    "print(f\"4. Частота значений в столбце 'status':\\n{df[\"status\"].value_counts()}\\n\")\n",
    "n_v=df['flight_id']\n",
    "# К сожалению, в приведенном запросе только одна числовая переменная, поэтому используем ее:\n",
    "print(f\"5. Значения в столбце 'status':\\nминимум \\t {n_v.min()}\\nсреднее \\t {n_v.mean()}\\nмедиана \\t {n_v.median()}\\nмаксимум \\t {n_v.max()}\")"
   ]
  },
  {
   "cell_type": "code",
   "execution_count": null,
   "id": "dadbd777-528b-4193-a114-a3684dcc2ed8",
   "metadata": {},
   "outputs": [],
   "source": []
  }
 ],
 "metadata": {
  "kernelspec": {
   "display_name": "Python 3 (ipykernel)",
   "language": "python",
   "name": "python3"
  },
  "language_info": {
   "codemirror_mode": {
    "name": "ipython",
    "version": 3
   },
   "file_extension": ".py",
   "mimetype": "text/x-python",
   "name": "python",
   "nbconvert_exporter": "python",
   "pygments_lexer": "ipython3",
   "version": "3.12.7"
  }
 },
 "nbformat": 4,
 "nbformat_minor": 5
}
